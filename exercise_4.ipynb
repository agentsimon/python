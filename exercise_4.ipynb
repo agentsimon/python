{
 "cells": [
  {
   "cell_type": "code",
   "execution_count": 1,
   "source": [
    "filenames = [\"program.c\", \"stdio.hpp\", \"sample.hpp\", \"a.out\", \"math.hpp\", \"hpp.out\"]\n",
    "# Generate newfilenames as a list containing the new filenames\n",
    "# using as many lines of code as your chosen method requires.\n",
    "def newfilenames(filenames):\n",
    "   \n",
    "    postfix =''\n",
    "    x = 0\n",
    "   \n",
    "    for item in filenames:\n",
    "        if x <= (len(filenames)):\n",
    "          \n",
    "            postfix = postfix +item[x].replace(item[x], item.replace('.hpp','.h')) +' '\n",
    "      \n",
    "            x = x+1\n",
    "    return postfix\n",
    " \n",
    "\n",
    "print(newfilenames(filenames)) \n",
    "# Should be [\"program.c\", \"stdio.h\", \"sample.h\", \"a.out\", \"math.h\", \"hpp.out\"]"
   ],
   "outputs": [
    {
     "output_type": "stream",
     "name": "stdout",
     "text": [
      "program.c stdio.h sample.h a.out math.h hpp.out \n"
     ]
    }
   ],
   "metadata": {}
  }
 ],
 "metadata": {
  "orig_nbformat": 4,
  "language_info": {
   "name": "python",
   "version": "3.8.11",
   "mimetype": "text/x-python",
   "codemirror_mode": {
    "name": "ipython",
    "version": 3
   },
   "pygments_lexer": "ipython3",
   "nbconvert_exporter": "python",
   "file_extension": ".py"
  },
  "kernelspec": {
   "name": "python3",
   "display_name": "Python 3.8.11 64-bit ('cv3': virtualenv)"
  },
  "interpreter": {
   "hash": "08c1099c2377ef7e13420d1619425e830fa372ef36148879b2245411e7a974b5"
  }
 },
 "nbformat": 4,
 "nbformat_minor": 2
}